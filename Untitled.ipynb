{
 "cells": [
  {
   "cell_type": "code",
   "execution_count": 4,
   "id": "b4f1992f-aa18-4dd3-ab5c-611e2b24257c",
   "metadata": {},
   "outputs": [
    {
     "name": "stdout",
     "output_type": "stream",
     "text": [
      "Türkçe Metin: bu kod entegre hale getirilmiştir\n"
     ]
    }
   ],
   "source": [
    "from deasciifier import Deasciifier\n",
    "\n",
    "# Örnek ASCII metin\n",
    "ascii_text = \"bü kod entegre hale getirılmıştır\"\n",
    "\n",
    "# Deasciifier nesnesi oluştur\n",
    "deasciifier = Deasciifier()\n",
    "\n",
    "# Türkçe metne dönüştür\n",
    "turkish_text = deasciifier.deasciify(ascii_text)\n",
    "\n",
    "print(\"Türkçe Metin:\", turkish_text)\n"
   ]
  },
  {
   "cell_type": "code",
   "execution_count": null,
   "id": "d1d61dbc-2c1a-4a55-a991-a9d4f49890f9",
   "metadata": {},
   "outputs": [],
   "source": []
  }
 ],
 "metadata": {
  "kernelspec": {
   "display_name": "Python 3 (ipykernel)",
   "language": "python",
   "name": "python3"
  },
  "language_info": {
   "codemirror_mode": {
    "name": "ipython",
    "version": 3
   },
   "file_extension": ".py",
   "mimetype": "text/x-python",
   "name": "python",
   "nbconvert_exporter": "python",
   "pygments_lexer": "ipython3",
   "version": "3.12.7"
  }
 },
 "nbformat": 4,
 "nbformat_minor": 5
}
